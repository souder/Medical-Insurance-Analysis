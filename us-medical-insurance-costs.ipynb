{
 "cells": [
  {
   "cell_type": "markdown",
   "metadata": {},
   "source": [
    "# U.S. Medical Insurance Costs"
   ]
  },
  {
   "cell_type": "code",
   "execution_count": 1,
   "metadata": {},
   "outputs": [],
   "source": [
    "#Importing csv library\n",
    "import csv"
   ]
  },
  {
   "cell_type": "code",
   "execution_count": 2,
   "metadata": {},
   "outputs": [],
   "source": [
    "#Empty lists fot storing data of insurance.csv\n",
    "\n",
    "age = []\n",
    "sex = []\n",
    "bmi = []\n",
    "children = []\n",
    "smoker = []\n",
    "region = []\n",
    "charges = []"
   ]
  },
  {
   "cell_type": "code",
   "execution_count": 3,
   "metadata": {},
   "outputs": [],
   "source": [
    "# Define a function to extract data from the dataset and import it into the lists.\n",
    "\n",
    "def addToList(my_list,csv_file,column):\n",
    "    with open (csv_file, 'r') as csv_file:\n",
    "        reader = csv.DictReader(csv_file)\n",
    "        for row in reader:\n",
    "            my_list.append(row[column])\n",
    "        \n"
   ]
  },
  {
   "cell_type": "code",
   "execution_count": 4,
   "metadata": {},
   "outputs": [],
   "source": [
    "# Execute the function to add values from the dataset to the list.\n",
    "\n",
    "addToList(age, 'Insurance.csv', \"age\")\n",
    "addToList(sex, 'Insurance.csv', \"sex\")\n",
    "addToList(bmi, 'Insurance.csv', \"bmi\")\n",
    "addToList(children, 'Insurance.csv', \"children\")\n",
    "addToList(smoker, 'Insurance.csv', \"smoker\")\n",
    "addToList(region, 'Insurance.csv', \"region\")\n",
    "addToList(charges, 'Insurance.csv', \"charges\")"
   ]
  },
  {
   "cell_type": "markdown",
   "metadata": {},
   "source": [
    "* find average age of the patients\n",
    "* return the number of males vs. females counted in the dataset\n",
    "* find geographical location of the patients\n",
    "* return the average yearly medical charges of the patients\n",
    "* return the median yearly medical charges of the patients\n",
    "* creating a dictionary that contains all patient information\n",
    "* Smokers per area"
   ]
  },
  {
   "cell_type": "code",
   "execution_count": 5,
   "metadata": {},
   "outputs": [],
   "source": [
    "class Patients:\n",
    "    def __init__(self, patients_age, patients_sex, patients_bmi, patients_children, patients_smoker, patients_region, patients_charges):\n",
    "        # Initialize the Patients class with patient information attributes\n",
    "        self.patients_age = patients_age\n",
    "        self.patients_sex = patients_sex\n",
    "        self.patients_bmi = patients_bmi\n",
    "        self.patients_children = patients_children\n",
    "        self.patients_smoker = patients_smoker\n",
    "        self.patients_region = patients_region\n",
    "        self.patients_charges = patients_charges\n",
    "\n",
    "    def __repr__(self):\n",
    "        # Define the string representation of the Patients class\n",
    "        return f\"Patient Info: Age={self.patients_age}, Sex={self.patients_sex}, BMI={self.patients_bmi}, Children={self.patients_children}, Smoker={self.patients_smoker}, Region={self.patients_region}, Charges={self.patients_charges}\"\n",
    "\n",
    "    def AverageAge(self, patients_age):\n",
    "        # Calculate the average age of patients\n",
    "        averageAge = 0\n",
    "        for age in patients_age:\n",
    "            averageAge += float(age)\n",
    "        return \"The average age is {}\".format(round(averageAge / len(patients_age)))\n",
    "\n",
    "    def num_males_females(self, patients_sex):\n",
    "        # Count the number of males and females in the list and calculate the difference\n",
    "        malecount = patients_sex.count('male')\n",
    "        femalecount = patients_sex.count('female')\n",
    "\n",
    "        if malecount != femalecount:\n",
    "            primary_gender = \"males\" if malecount > femalecount else \"females\"\n",
    "            secondary_gender = \"females\" if primary_gender == \"males\" else \"males\"\n",
    "\n",
    "            dif = abs(malecount - femalecount)\n",
    "            percent_dif = (dif / (malecount + femalecount)) * 100\n",
    "            percent_total = 100 - percent_dif\n",
    "\n",
    "        return f\"There are {malecount} {primary_gender} and {femalecount} {secondary_gender} in the list.\\n\" \\\n",
    "               f\"The difference is {dif}, which represents {percent_dif:.2f}% of difference\\n\"\n",
    "\n",
    "        # Note: The second return statement is unreachable and can be removed.\n",
    "\n",
    "    def region(self, patients_region):\n",
    "        # Count the occurrences of each region in the list\n",
    "        region_dic = {}\n",
    "        for region in patients_region:\n",
    "            counter = 0\n",
    "            if region not in region_dic:\n",
    "                region_dic[region] = 1\n",
    "            else:\n",
    "                region_dic[region] += 1\n",
    "        return region_dic\n",
    "\n",
    "    def averageYearlyCharges(self, patients_charges):\n",
    "        # Calculate the average yearly charges of patients\n",
    "        total_charge = 0\n",
    "        for charge in patients_charges:\n",
    "            total_charge += float(charge)\n",
    "\n",
    "        average_charge = total_charge / len(patients_charges)\n",
    "        return \"The average yearly charge is {:.2f}\".format(average_charge)\n",
    "    \n",
    "    def medianYearlyCharges(self, patients_charges):\n",
    "        charges_sorted = sorted(map(float, patients_charges))\n",
    "        n = len(charges_sorted)\n",
    "        if n % 2 == 1:\n",
    "        # Si la longitud es impar, devolver el valor en la posición central\n",
    "            median_value = charges_sorted[n // 2]\n",
    "        else:\n",
    "        # Si la longitud es par, devolver el promedio de los dos valores centrales\n",
    "            middle1 = charges_sorted[(n // 2) - 1]\n",
    "            middle2 = charges_sorted[n // 2]\n",
    "            median_value = float((middle1 + middle2) / 2)\n",
    "\n",
    "        return \"The median yearly charge is {:.2f}\".format(median_value)\n",
    "\n",
    "\n",
    "    def createDictionary(self):\n",
    "        # Create a dictionary with patient information\n",
    "        self.patients_dictionary = {}\n",
    "        self.patients_dictionary['age'] = [int(age) for age in self.patients_age]\n",
    "        self.patients_dictionary['sex'] = self.patients_sex\n",
    "        self.patients_dictionary['bmi'] = self.patients_bmi\n",
    "        self.patients_dictionary['children'] = self.patients_children\n",
    "        self.patients_dictionary['smoker'] = self.patients_smoker\n",
    "        self.patients_dictionary['region'] = self.patients_region\n",
    "        self.patients_dictionary['charges'] = self.patients_charges\n",
    "        return self.patients_dictionary\n",
    "\n",
    "    def smokers_by_region(self):\n",
    "        # Count the number of smokers in each region\n",
    "        smokers_by_region = {}\n",
    "        for i, region in enumerate(self.patients_region):\n",
    "            if self.patients_smoker[i] == 'yes':\n",
    "                smokers_by_region[region] = smokers_by_region.get(region, 0) + 1\n",
    "        return smokers_by_region"
   ]
  },
  {
   "cell_type": "code",
   "execution_count": 6,
   "metadata": {},
   "outputs": [],
   "source": [
    "# Creating an instance of the Patients class with patient data\n",
    "paciente = Patients(age, sex, bmi, children, smoker, region, charges)"
   ]
  },
  {
   "cell_type": "code",
   "execution_count": 7,
   "metadata": {},
   "outputs": [
    {
     "name": "stdout",
     "output_type": "stream",
     "text": [
      "The average age is 39\n"
     ]
    }
   ],
   "source": [
    "# Calculate and print the average age of patients\n",
    "print(paciente.AverageAge(age))"
   ]
  },
  {
   "cell_type": "markdown",
   "metadata": {},
   "source": [
    "Average Age:\n",
    "\n",
    "The calculated average age of 39 suggests that the majority of patients in the dataset fall around this age. This measure provides a central tendency, but further exploration, such as examining age ranges or creating a histogram, would offer a more complete understanding of the age distribution."
   ]
  },
  {
   "cell_type": "code",
   "execution_count": 8,
   "metadata": {},
   "outputs": [
    {
     "name": "stdout",
     "output_type": "stream",
     "text": [
      "There are 676 males and 662 females in the list.\n",
      "The difference is 14, which represents 1.05% of difference\n",
      "\n"
     ]
    }
   ],
   "source": [
    "# Count the number of males and females, and print the results\n",
    "print(paciente.num_males_females(sex))"
   ]
  },
  {
   "cell_type": "markdown",
   "metadata": {},
   "source": [
    "Number of Males and Females:\n",
    "The dataset exhibits a relatively balanced distribution between males (6766) and females (662). The small difference of 14 individuals, representing approximately 1.05% of the total, indicates a near-equitable gender representation."
   ]
  },
  {
   "cell_type": "code",
   "execution_count": 9,
   "metadata": {},
   "outputs": [
    {
     "name": "stdout",
     "output_type": "stream",
     "text": [
      "{'southwest': 325, 'southeast': 364, 'northwest': 325, 'northeast': 324}\n"
     ]
    }
   ],
   "source": [
    "# Count the occurrences of each region and print the results\n",
    "print(paciente.region(region))"
   ]
  },
  {
   "cell_type": "markdown",
   "metadata": {},
   "source": [
    "Count of Patients in Each Region:\n",
    "The regional distribution of patients reveals variations, with the Southeast having the highest count (364) and the Northeast the lowest (324). Understanding regional differences can be crucial for targeted healthcare interventions or resource allocation."
   ]
  },
  {
   "cell_type": "code",
   "execution_count": 10,
   "metadata": {},
   "outputs": [
    {
     "name": "stdout",
     "output_type": "stream",
     "text": [
      "The average yearly charge is 13270.42\n"
     ]
    }
   ],
   "source": [
    "# Calculate and print the average yearly charges of patients\n",
    "print(paciente.averageYearlyCharges(charges))"
   ]
  },
  {
   "cell_type": "markdown",
   "metadata": {},
   "source": [
    "Average Yearly Charges:\n",
    "\n",
    "The average yearly charge of $13,270.42 provides a central measure for healthcare costs. Further investigation into the distribution of charges, potential outliers, or a comparison with other factors like region or smoking status could offer more nuanced insights."
   ]
  },
  {
   "cell_type": "code",
   "execution_count": 11,
   "metadata": {},
   "outputs": [
    {
     "name": "stdout",
     "output_type": "stream",
     "text": [
      "The median yearly charge is 9382.03\n"
     ]
    }
   ],
   "source": [
    "# Calculate and print the median yearly charges of patients\n",
    "\n",
    "print(paciente.medianYearlyCharges(charges))\n"
   ]
  },
  {
   "cell_type": "markdown",
   "metadata": {},
   "source": [
    "Median Yearly Charges:\n",
    "\n",
    "The analysis suggests that the median yearly charge is $9382.03. The recommendation is to consider the median instead of the average (mean) charges when assessing the central tendency of the data. This is advised because outliers in the dataset can significantly impact the mean, causing it to be skewed. By focusing on the median, which represents the middle value when the data is sorted, the impact of outliers is mitigated, providing a more robust measure of the central tendency for the yearly charges."
   ]
  },
  {
   "cell_type": "code",
   "execution_count": 12,
   "metadata": {},
   "outputs": [],
   "source": [
    "# Create a dictionary containing patient information and print it\n",
    "final_dict = paciente.createDictionary()"
   ]
  },
  {
   "cell_type": "markdown",
   "metadata": {},
   "source": [
    "Create Dictionary:\n",
    "The createDictionary method creates a structured dictionary (final_dict) containing various patient attributes. This organized data structure facilitates easy retrieval and manipulation of patient information for further analysis or reporting."
   ]
  },
  {
   "cell_type": "code",
   "execution_count": 13,
   "metadata": {},
   "outputs": [
    {
     "name": "stdout",
     "output_type": "stream",
     "text": [
      "{'southwest': 58, 'southeast': 91, 'northeast': 67, 'northwest': 58}\n"
     ]
    }
   ],
   "source": [
    "# Count the number of smokers in each region and print the results\n",
    "print(paciente.smokers_by_region())"
   ]
  },
  {
   "cell_type": "markdown",
   "metadata": {},
   "source": [
    "Count of Smokers in Each Region:\n",
    "\n",
    "Examining the count of smokers across regions reveals disparities, with the Southeast having the highest count (91). Understanding smoking prevalence in different regions is valuable for public health planning and targeted anti-smoking campaigns."
   ]
  }
 ],
 "metadata": {
  "kernelspec": {
   "display_name": "Python 3 (ipykernel)",
   "language": "python",
   "name": "python3"
  },
  "language_info": {
   "codemirror_mode": {
    "name": "ipython",
    "version": 3
   },
   "file_extension": ".py",
   "mimetype": "text/x-python",
   "name": "python",
   "nbconvert_exporter": "python",
   "pygments_lexer": "ipython3",
   "version": "3.11.5"
  }
 },
 "nbformat": 4,
 "nbformat_minor": 4
}
